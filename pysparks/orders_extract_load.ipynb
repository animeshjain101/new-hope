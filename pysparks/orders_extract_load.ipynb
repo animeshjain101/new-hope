{
 "cells": [
  {
   "cell_type": "code",
   "execution_count": 0,
   "metadata": {
    "application/vnd.databricks.v1+cell": {
     "cellMetadata": {
      "byteLimit": 2048000,
      "rowLimit": 10000
     },
     "inputWidgets": {},
     "nuid": "e52b1af3-35d7-4473-a09c-049a35a6647f",
     "showTitle": false,
     "tableResultSettingsMap": {},
     "title": ""
    }
   },
   "outputs": [],
   "source": [
    "import pyspark.sql.functions as F\n",
    "import pyspark.sql.types as T\n",
    "import json\n",
    "from datetime import datetime, timedelta"
   ]
  },
  {
   "cell_type": "code",
   "execution_count": 0,
   "metadata": {
    "application/vnd.databricks.v1+cell": {
     "cellMetadata": {
      "byteLimit": 2048000,
      "rowLimit": 10000
     },
     "inputWidgets": {},
     "nuid": "2d948685-4094-47bd-a47e-d71ec81a8915",
     "showTitle": false,
     "tableResultSettingsMap": {},
     "title": ""
    }
   },
   "outputs": [],
   "source": [
    "dbutils.widgets.dropdown(\"Load_type\",\"DELTA\" ,[\"FULL\" ,\"DELTA\"] , \"Load Type for Extraction and Loading\")\n",
    "dbutils.widgets.text(\"Flow\",\"\",\"Flow Name for Current Job\")\n",
    "dbutils.widgets.text(\"delta_load_time\",\"10\",\"Delta Load Time In days\")\n",
    "dbutils.widgets.text(\"Entity\",\"orders\",\"Entity Name\")\n",
    "dbutils.widgets.text(\"current_date\",\"1900-01-01\",\"Current Date\")"
   ]
  },
  {
   "cell_type": "code",
   "execution_count": 0,
   "metadata": {
    "application/vnd.databricks.v1+cell": {
     "cellMetadata": {
      "byteLimit": 2048000,
      "rowLimit": 10000
     },
     "inputWidgets": {},
     "nuid": "1368c7e7-8ca6-412e-b1ae-82a9e6ecdcf3",
     "showTitle": false,
     "tableResultSettingsMap": {},
     "title": ""
    }
   },
   "outputs": [],
   "source": [
    "load_type = dbutils.widgets.get(\"Load_type\")\n",
    "flow = dbutils.widgets.get(\"Flow\")\n",
    "delta_load_time = dbutils.widgets.get(\"delta_load_time\")\n",
    "entity = dbutils.widgets.get(\"Entity\")\n",
    "current_date = dbutils.widgets.get(\"current_date\")"
   ]
  },
  {
   "cell_type": "code",
   "execution_count": 0,
   "metadata": {
    "application/vnd.databricks.v1+cell": {
     "cellMetadata": {
      "byteLimit": 2048000,
      "rowLimit": 10000
     },
     "inputWidgets": {},
     "nuid": "1b558556-6ee9-46b4-b2ca-3173cd23315b",
     "showTitle": false,
     "tableResultSettingsMap": {},
     "title": ""
    }
   },
   "outputs": [],
   "source": [
    "print(\"Running Load On: \" + current_date)"
   ]
  },
  {
   "cell_type": "code",
   "execution_count": 0,
   "metadata": {
    "application/vnd.databricks.v1+cell": {
     "cellMetadata": {
      "byteLimit": 2048000,
      "rowLimit": 10000
     },
     "inputWidgets": {},
     "nuid": "be5aae59-c9c0-4d0c-bc97-ac8dd08ce711",
     "showTitle": false,
     "tableResultSettingsMap": {},
     "title": ""
    }
   },
   "outputs": [],
   "source": [
    "if load_type.upper() not in (\"FULL\" , \"DELTA\"):\n",
    "  raise Exception(\"Invalid Load Type\")\n",
    "\n",
    "try:\n",
    "    delta_load_time = int(delta_load_time)\n",
    "except:\n",
    "  raise Exception(\"Invalid Delta Load Time\")"
   ]
  },
  {
   "cell_type": "code",
   "execution_count": 0,
   "metadata": {
    "application/vnd.databricks.v1+cell": {
     "cellMetadata": {
      "byteLimit": 2048000,
      "rowLimit": 10000
     },
     "inputWidgets": {},
     "nuid": "4357aa58-cd53-4ad7-bcf9-920ed5b321f2",
     "showTitle": false,
     "tableResultSettingsMap": {},
     "title": ""
    }
   },
   "outputs": [],
   "source": [
    "create_path = \"../sqls/creates/\"\n",
    "transformation_path = '../sqls/transformations/'"
   ]
  },
  {
   "cell_type": "code",
   "execution_count": 0,
   "metadata": {
    "application/vnd.databricks.v1+cell": {
     "cellMetadata": {
      "byteLimit": 2048000,
      "rowLimit": 10000
     },
     "inputWidgets": {},
     "nuid": "07e1f778-ff96-4e74-986b-130ff3c2c978",
     "showTitle": false,
     "tableResultSettingsMap": {},
     "title": ""
    }
   },
   "outputs": [],
   "source": [
    "if load_type == \"DELTA\":\n",
    "    delta_load_start = (datetime.strptime(current_date,\"%Y-%m-%d\") - timedelta(days=delta_load_time)).strftime(\"%Y-%m-%d\")\n",
    "else:\n",
    "    delta_load_start = '1900-01-01'\n",
    "\n",
    "print(\"Starting Loading data from:\", delta_load_start)"
   ]
  },
  {
   "cell_type": "markdown",
   "metadata": {
    "application/vnd.databricks.v1+cell": {
     "cellMetadata": {
      "byteLimit": 2048000,
      "rowLimit": 10000
     },
     "inputWidgets": {},
     "nuid": "77e8dc32-7cc6-49a8-b15c-8fa6ee54fc5e",
     "showTitle": false,
     "tableResultSettingsMap": {},
     "title": ""
    }
   },
   "source": [
    "### Staging Table Creation"
   ]
  },
  {
   "cell_type": "code",
   "execution_count": 0,
   "metadata": {
    "application/vnd.databricks.v1+cell": {
     "cellMetadata": {
      "byteLimit": 2048000,
      "rowLimit": 10000
     },
     "inputWidgets": {},
     "nuid": "2656d6b3-f56c-4bf0-a887-afb378660799",
     "showTitle": false,
     "tableResultSettingsMap": {},
     "title": ""
    }
   },
   "outputs": [],
   "source": [
    "with open(transformation_path + 'stg_' + entity + '.sql') as f:\n",
    "  _content = f.read()\n",
    "\n",
    "sql_content = _content.replace('{load_start}', delta_load_start) \\\n",
    "           .replace('{current_date}', current_date)\n",
    "\n",
    "\n",
    "print(\"Read Content\" + \"\\n\\n\\n\" + sql_content)"
   ]
  },
  {
   "cell_type": "code",
   "execution_count": 0,
   "metadata": {
    "application/vnd.databricks.v1+cell": {
     "cellMetadata": {
      "byteLimit": 2048000,
      "rowLimit": 10000
     },
     "inputWidgets": {},
     "nuid": "201e07e0-fd35-4243-9790-db591f5e5cfd",
     "showTitle": false,
     "tableResultSettingsMap": {},
     "title": ""
    }
   },
   "outputs": [],
   "source": [
    "sql_statements = sql_content.strip().split(';')\n",
    "for statement in sql_statements:\n",
    "    if statement != '' :\n",
    "        print(statement)\n",
    "        display(spark.sql(statement))"
   ]
  },
  {
   "cell_type": "code",
   "execution_count": 0,
   "metadata": {
    "application/vnd.databricks.v1+cell": {
     "cellMetadata": {
      "byteLimit": 2048000,
      "rowLimit": 10000
     },
     "inputWidgets": {},
     "nuid": "45333625-a2b2-4e7f-8f94-4db6bdc708ef",
     "showTitle": false,
     "tableResultSettingsMap": {},
     "title": ""
    }
   },
   "outputs": [],
   "source": [
    "with open(transformation_path + entity + '_transformations.sql') as f:\n",
    "  _content = f.read()\n",
    "\n",
    "sql_content = _content.replace('{current_date}',current_date)\n",
    "\n",
    "print(\"Read Content\"+ \"\\n\\n\\n\" + sql_content)"
   ]
  },
  {
   "cell_type": "code",
   "execution_count": 0,
   "metadata": {
    "application/vnd.databricks.v1+cell": {
     "cellMetadata": {
      "byteLimit": 2048000,
      "rowLimit": 10000
     },
     "inputWidgets": {},
     "nuid": "17b263a7-4a95-4b5d-a6f8-17cb665b3d76",
     "showTitle": false,
     "tableResultSettingsMap": {},
     "title": ""
    }
   },
   "outputs": [],
   "source": [
    "sql_statements = sql_content.strip().split(';')\n",
    "for statement in sql_statements:\n",
    "    if statement != '' :\n",
    "\n",
    "        print(statement)\n",
    "\n",
    "        display(spark.sql(statement))"
   ]
  }
 ],
 "metadata": {
  "application/vnd.databricks.v1+notebook": {
   "computePreferences": null,
   "dashboards": [],
   "environmentMetadata": {
    "base_environment": "",
    "environment_version": "3"
   },
   "inputWidgetPreferences": null,
   "language": "python",
   "notebookMetadata": {
    "pythonIndentUnit": 4
   },
   "notebookName": "orders_extract_load",
   "widgets": {
    "Entity": {
     "currentValue": "orders",
     "nuid": "ccc15042-5f52-419a-8837-e70e252489dd",
     "typedWidgetInfo": {
      "autoCreated": false,
      "defaultValue": "orders",
      "label": "Entity Name",
      "name": "Entity",
      "options": {
       "widgetDisplayType": "Text",
       "validationRegex": null
      },
      "parameterDataType": "String"
     },
     "widgetInfo": {
      "widgetType": "text",
      "defaultValue": "orders",
      "label": "Entity Name",
      "name": "Entity",
      "options": {
       "widgetType": "text",
       "autoCreated": null,
       "validationRegex": null
      }
     }
    },
    "Flow": {
     "currentValue": "ORDERS_FACT",
     "nuid": "49c293da-f152-421c-9a32-57387522fd01",
     "typedWidgetInfo": {
      "autoCreated": false,
      "defaultValue": "",
      "label": "Flow Name for Current Job",
      "name": "Flow",
      "options": {
       "widgetDisplayType": "Text",
       "validationRegex": null
      },
      "parameterDataType": "String"
     },
     "widgetInfo": {
      "widgetType": "text",
      "defaultValue": "",
      "label": "Flow Name for Current Job",
      "name": "Flow",
      "options": {
       "widgetType": "text",
       "autoCreated": null,
       "validationRegex": null
      }
     }
    },
    "Load_type": {
     "currentValue": "DELTA",
     "nuid": "49448efb-c309-41d2-b264-1cd162d88a73",
     "typedWidgetInfo": {
      "autoCreated": false,
      "defaultValue": "DELTA",
      "label": "Load Type for Extraction and Loading",
      "name": "Load_type",
      "options": {
       "widgetDisplayType": "Dropdown",
       "choices": [
        "FULL",
        "DELTA"
       ],
       "fixedDomain": true,
       "multiselect": false
      },
      "parameterDataType": "String"
     },
     "widgetInfo": {
      "widgetType": "dropdown",
      "defaultValue": "DELTA",
      "label": "Load Type for Extraction and Loading",
      "name": "Load_type",
      "options": {
       "widgetType": "dropdown",
       "autoCreated": null,
       "choices": [
        "FULL",
        "DELTA"
       ]
      }
     }
    },
    "current_date": {
     "currentValue": "2025-11-15",
     "nuid": "01579dbe-dadf-428f-bbdf-40d971c44278",
     "typedWidgetInfo": {
      "autoCreated": false,
      "defaultValue": "1900-01-01",
      "label": "Current Date",
      "name": "current_date",
      "options": {
       "widgetDisplayType": "Text",
       "validationRegex": null
      },
      "parameterDataType": "String"
     },
     "widgetInfo": {
      "widgetType": "text",
      "defaultValue": "1900-01-01",
      "label": "Current Date",
      "name": "current_date",
      "options": {
       "widgetType": "text",
       "autoCreated": null,
       "validationRegex": null
      }
     }
    },
    "delta_load_time": {
     "currentValue": "30",
     "nuid": "067b7845-c543-4397-841b-37cded3db1d9",
     "typedWidgetInfo": {
      "autoCreated": false,
      "defaultValue": "10",
      "label": "Delta Load Time In days",
      "name": "delta_load_time",
      "options": {
       "widgetDisplayType": "Text",
       "validationRegex": null
      },
      "parameterDataType": "String"
     },
     "widgetInfo": {
      "widgetType": "text",
      "defaultValue": "10",
      "label": "Delta Load Time In days",
      "name": "delta_load_time",
      "options": {
       "widgetType": "text",
       "autoCreated": null,
       "validationRegex": null
      }
     }
    }
   }
  },
  "language_info": {
   "name": "python"
  }
 },
 "nbformat": 4,
 "nbformat_minor": 0
}
